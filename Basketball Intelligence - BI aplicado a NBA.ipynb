{
 "cells": [
  {
   "cell_type": "markdown",
   "id": "51ba6693",
   "metadata": {},
   "source": [
    "Importando Bibliotecas"
   ]
  },
  {
   "cell_type": "code",
   "execution_count": null,
   "id": "816001c4",
   "metadata": {
    "scrolled": true
   },
   "outputs": [],
   "source": [
    "import requests\n",
    "from urllib.request import urlopen, urlretrieve,Request\n",
    "import pandas as pd\n",
    "from bs4 import BeautifulSoup\n",
    "from urllib.error import URLError, HTTPError\n",
    "import numpy as np\n",
    "import seaborn as sns\n",
    "import matplotlib.pyplot as plt\n",
    "import plotly.express as px"
   ]
  },
  {
   "cell_type": "markdown",
   "id": "0088a750",
   "metadata": {},
   "source": [
    "Definindo os intervalos"
   ]
  },
  {
   "cell_type": "code",
   "execution_count": null,
   "id": "aba1ba90",
   "metadata": {
    "scrolled": true
   },
   "outputs": [],
   "source": [
    "years = list(range(2013,2023))\n",
    "months = list(['january', 'february', 'march', 'april', 'may', 'june', 'july',\n",
    "          'august', 'septe               mber', 'october', 'november', 'december'])"
   ]
  },
  {
   "cell_type": "markdown",
   "id": "caaf88c8",
   "metadata": {},
   "source": [
    "## Tabela de Jogadores"
   ]
  },
  {
   "cell_type": "markdown",
   "id": "218b0ba4",
   "metadata": {},
   "source": [
    "### Coleta de Dados"
   ]
  },
  {
   "cell_type": "markdown",
   "id": "061e4931",
   "metadata": {},
   "source": [
    "Salvando HTML com dados de jogo de cada jogador"
   ]
  },
  {
   "cell_type": "code",
   "execution_count": null,
   "id": "9e191dfb",
   "metadata": {
    "scrolled": true
   },
   "outputs": [],
   "source": [
    "url_players = \"https://www.basketball-reference.com/leagues/NBA_{}_per_game.html\"\n",
    "for year in years:\n",
    "    response = urlopen(url_players.format(year))\n",
    "    html = response.read()\n",
    "    with open (\"players/{}.html\".format(year),\"w+\", encoding='utf-8') as f:\n",
    "        f.write(html.decode('utf-8'))"
   ]
  },
  {
   "cell_type": "markdown",
   "id": "23faf8d0",
   "metadata": {},
   "source": [
    "Transformando HTML em um DataFrame"
   ]
  },
  {
   "cell_type": "code",
   "execution_count": null,
   "id": "2f581ddf",
   "metadata": {
    "scrolled": true
   },
   "outputs": [],
   "source": [
    "dfs = []\n",
    "for year in years:\n",
    "    with open (\"players/{}.html\".format(year),\"r\",encoding='utf-8') as f:\n",
    "        page = f.read()\n",
    "    soup = BeautifulSoup(page,\"html.parser\")\n",
    "    soup.find('tr',class_=\"thead\").decompose\n",
    "    players_profile = soup.find_all(id=\"per_game_stats\")\n",
    "    players_profile = soup.select('tbody tr td[data-stat=\"player\"] a')\n",
    "    players_table = soup.find_all(id=\"per_game_stats\")\n",
    "    players_df = pd.read_html(str(players_table))[0]\n",
    "    players_df.drop_duplicates(keep = False, inplace = True)\n",
    "    players_df['Season']=year\n",
    "    dfs.append(players_df)\n",
    "    players = pd.concat(dfs)\n",
    "players.to_csv(\"players.csv\")"
   ]
  },
  {
   "cell_type": "markdown",
   "id": "9bae7da1",
   "metadata": {},
   "source": [
    "###  Tratamento de Dados"
   ]
  },
  {
   "cell_type": "markdown",
   "id": "b6243def",
   "metadata": {},
   "source": [
    "Analisando o DataFrame"
   ]
  },
  {
   "cell_type": "code",
   "execution_count": null,
   "id": "e2103f25",
   "metadata": {
    "scrolled": true
   },
   "outputs": [],
   "source": [
    "players = pd.read_csv(\"players.csv\")\n",
    "players"
   ]
  },
  {
   "cell_type": "markdown",
   "id": "a0111333",
   "metadata": {},
   "source": [
    "Modelagem dos dados"
   ]
  },
  {
   "cell_type": "code",
   "execution_count": null,
   "id": "4540c5c3",
   "metadata": {
    "scrolled": true
   },
   "outputs": [],
   "source": [
    "#Limpeza das variáveis que não serão utilizadas\n",
    "del players[\"Unnamed: 0\"]\n",
    "del players[\"Rk\"]\n",
    "\n",
    "# remover \"*\" dos nomes de jogadores\n",
    "players[\"Player\"] = players[\"Player\"].str.replace(\"*\",\"\", regex=False)\n",
    "\n",
    "# ajuste da abreviação do time Brooklyn Nets de \"BRK\" para \"BKN\"\n",
    "players[\"Tm\"] = players[\"Tm\"].str.replace(\"BRK\",\"BKN\", regex=False)"
   ]
  },
  {
   "cell_type": "code",
   "execution_count": null,
   "id": "494ced6d",
   "metadata": {
    "scrolled": true
   },
   "outputs": [],
   "source": [
    "# Quando um jogador muda de time durante a temporada, a tabela cria uma nova linha com as estatísticas do novo time. \n",
    "# E também, cria mais uma linha com as estatísticas totais do jogador por temporada. De modo que temos os dados do jogador por time e também o somatório desses dados na temporada.\n",
    "# Então, para fins de padronização da tabela, os dados mantidos serão os totais, atribuidos ao time onde o jogador encerrou a temporada.\n",
    "players[players[\"Player\"] == \"James Harden\"][players[\"Season\"]>2020]"
   ]
  },
  {
   "cell_type": "code",
   "execution_count": null,
   "id": "8d7ce312",
   "metadata": {
    "scrolled": true
   },
   "outputs": [],
   "source": [
    "# Função para identificar se há mais de uma linha para cada jogador e retornar os valores de \"TOT\", em caso de mais de uma ocorrência, substituindo, após, o nome do time de \"TOT\" para o último que surgir  \n",
    "def team_tot(df):\n",
    "    if df.shape[0]==1:\n",
    "        return df\n",
    "    else:\n",
    "        row = df[df[\"Tm\"]==\"TOT\"]\n",
    "        row[\"Tm\"] = df.iloc[-1,:][\"Tm\"]\n",
    "        return row\n",
    "# Aplicar função no groupby\n",
    "players = players.groupby([\"Player\",\"Season\"]).apply(team_tot)"
   ]
  },
  {
   "cell_type": "code",
   "execution_count": null,
   "id": "efc35cab",
   "metadata": {
    "scrolled": true
   },
   "outputs": [],
   "source": [
    "#removendo index para manter o formato da tabela original\n",
    "players.index = players.index.droplevel()\n",
    "players.index = players.index.droplevel()\n",
    "players"
   ]
  },
  {
   "cell_type": "markdown",
   "id": "de302f9b",
   "metadata": {},
   "source": [
    "## Tabela MVP"
   ]
  },
  {
   "cell_type": "markdown",
   "id": "0deb3506",
   "metadata": {},
   "source": [
    "### Coleta de Dados"
   ]
  },
  {
   "cell_type": "markdown",
   "id": "e14d6ff7",
   "metadata": {},
   "source": [
    "Salvando HTML"
   ]
  },
  {
   "cell_type": "code",
   "execution_count": null,
   "id": "da2e8753",
   "metadata": {
    "scrolled": true
   },
   "outputs": [],
   "source": [
    "url_mvp = \"https://www.basketball-reference.com/awards/awards_{}.html\"\n",
    "for year in years:\n",
    "    response = urlopen(url_mvp.format(year))\n",
    "    html = response.read()\n",
    "    with open (\"mvp/{}.html\".format(year),\"w+\", encoding='utf-8') as f:\n",
    "        f.write(html.decode('utf-8'))"
   ]
  },
  {
   "cell_type": "markdown",
   "id": "7e979072",
   "metadata": {},
   "source": [
    "Transformando HTML em um DataFrame"
   ]
  },
  {
   "cell_type": "code",
   "execution_count": null,
   "id": "19ebf1a7",
   "metadata": {
    "scrolled": true
   },
   "outputs": [],
   "source": [
    "dfs = []\n",
    "for year in years:\n",
    "    with open (\"mvp/{}.html\".format(year),\"r\",encoding='utf-8') as f:\n",
    "        page = f.read()\n",
    "        \n",
    "    soup = BeautifulSoup(page,\"html.parser\")\n",
    "    soup.find('tr', class_=\"over_header\").decompose()\n",
    "    link = soup.find('td')\n",
    "    link = link.find('a')\n",
    "    link2 = link.get('href')\n",
    "    mvp_table = soup.find_all(id=\"mvp\")\n",
    "    mvp_df = pd.read_html(str(mvp_table))[0]\n",
    "    mvp_df[\"Season\"] = year\n",
    "    dfs.append(mvp_df)\n",
    "    mvps = pd.concat(dfs)\n",
    "    mvps.to_csv(\"mvps.csv\")"
   ]
  },
  {
   "cell_type": "markdown",
   "id": "2aed4ae3",
   "metadata": {},
   "source": [
    "###  Tratamento de Dados"
   ]
  },
  {
   "cell_type": "markdown",
   "id": "f78981cd",
   "metadata": {},
   "source": [
    "Analisando o DataFrame"
   ]
  },
  {
   "cell_type": "code",
   "execution_count": null,
   "id": "e09f0244",
   "metadata": {
    "scrolled": true
   },
   "outputs": [],
   "source": [
    "mvps = pd.read_csv(\"mvps.csv\")"
   ]
  },
  {
   "cell_type": "markdown",
   "id": "11c1a10a",
   "metadata": {},
   "source": [
    "Modelagem dos dados"
   ]
  },
  {
   "cell_type": "code",
   "execution_count": null,
   "id": "c3caf7e5",
   "metadata": {
    "scrolled": true
   },
   "outputs": [],
   "source": [
    "#Acrescentar variável informando quem foi o MVP da temporada\n",
    "mvps[\"MVP\"]=\"\"\n",
    "mvps[\"MVP\"].mask(mvps[\"Rank\"] == \"1\", \"MVP\", inplace=True)\n",
    "mvps[\"MVP\"].mask(mvps[\"Rank\"] !=\"1\", \"Not MVP\", inplace=True)"
   ]
  },
  {
   "cell_type": "code",
   "execution_count": null,
   "id": "6741fde0",
   "metadata": {
    "scrolled": true
   },
   "outputs": [],
   "source": [
    "#Limpeza das variáveis que não serão utilizadas\n",
    "mvps = mvps[[\"Player\",\"Season\",\"Pts Won\",'Share',\"MVP\"]]\n",
    "mvps"
   ]
  },
  {
   "cell_type": "markdown",
   "id": "1d667276",
   "metadata": {},
   "source": [
    "## Tabela de Times"
   ]
  },
  {
   "cell_type": "markdown",
   "id": "b5c86d55",
   "metadata": {},
   "source": [
    "### Coleta de Dados"
   ]
  },
  {
   "cell_type": "markdown",
   "id": "72f72836",
   "metadata": {},
   "source": [
    "Salvando HTML com dados de cada time"
   ]
  },
  {
   "cell_type": "code",
   "execution_count": null,
   "id": "0d370cf5",
   "metadata": {
    "scrolled": true
   },
   "outputs": [],
   "source": [
    "url_teams = \"https://www.basketball-reference.com/leagues/NBA_{}_standings.html\"\n",
    "for year in years:\n",
    "    response = urlopen(url_teams.format(year))\n",
    "    html = response.read()\n",
    "    with open (\"teams/{}.html\".format(year),\"w+\", encoding='utf-8') as f:\n",
    "        f.write(html.decode('utf-8'))"
   ]
  },
  {
   "cell_type": "markdown",
   "id": "d7eba33a",
   "metadata": {},
   "source": [
    "Transformando HTML em um DataFrame"
   ]
  },
  {
   "cell_type": "code",
   "execution_count": null,
   "id": "6e7e9af3",
   "metadata": {
    "scrolled": true
   },
   "outputs": [],
   "source": [
    "dfs=[]\n",
    "for year in years:\n",
    "    with open (\"teams/{}.html\".format(year),\"r\",encoding='utf-8') as f:\n",
    "        page = f.read()\n",
    "    soup = BeautifulSoup(page,\"html.parser\")\n",
    "    soup.find('tr',class_=\"thead\").decompose()\n",
    "    \n",
    "    e_table = soup.find_all(id=\"div_divs_standings_E\")[0]\n",
    "    e_df = pd.read_html(str(e_table))[0]\n",
    "    e_df.rename(columns = {'Eastern Conference':'Team'},inplace=True)\n",
    "    e_df['Season']=year\n",
    "    e_df['Conference']='Eastern'\n",
    "    e_df.drop(e_df.loc[e_df['Team'].str.contains(\"Division\")].index, inplace=True)\n",
    "    dfs.append(e_df)\n",
    "\n",
    "    w_table = soup.find_all(id=\"div_divs_standings_W\")[0]\n",
    "    w_df = pd.read_html(str(w_table))[0]\n",
    "    w_df.rename(columns = {'Western Conference':'Team'},inplace=True)\n",
    "    w_df['Season']=year\n",
    "    w_df['Conference']='Western'\n",
    "    w_df.drop(w_df.loc[w_df['Team'].str.contains(\"Division\")].index, inplace=True)\n",
    "    dfs.append(w_df)\n",
    "teams = pd.concat(dfs)   \n",
    "teams.to_csv(\"teams.csv\")"
   ]
  },
  {
   "cell_type": "markdown",
   "id": "37d61492",
   "metadata": {},
   "source": [
    "###  Tratamento de Dados"
   ]
  },
  {
   "cell_type": "markdown",
   "id": "d67dd8a3",
   "metadata": {},
   "source": [
    "Analisando o DataFrame"
   ]
  },
  {
   "cell_type": "code",
   "execution_count": null,
   "id": "de4aab05",
   "metadata": {
    "scrolled": true
   },
   "outputs": [],
   "source": [
    "teams = pd.read_csv('teams.csv')\n",
    "teams"
   ]
  },
  {
   "cell_type": "markdown",
   "id": "5c981574",
   "metadata": {},
   "source": [
    "Modelagem dos dados"
   ]
  },
  {
   "cell_type": "code",
   "execution_count": null,
   "id": "4fc26871",
   "metadata": {
    "scrolled": true
   },
   "outputs": [],
   "source": [
    "# deletar variáveis que não serão utilizadas\n",
    "del teams[\"GB\"]\n",
    "del teams[\"PS/G\"]\n",
    "del teams[\"PA/G\"]\n",
    "del teams[\"SRS\"]"
   ]
  },
  {
   "cell_type": "code",
   "execution_count": null,
   "id": "a03815bd",
   "metadata": {
    "scrolled": true
   },
   "outputs": [],
   "source": [
    "# Criação de variável indicando que o time foi para o torneio de Playoffs\n",
    "teams[\"Playoffs\"] = teams['Team'].str[-1]\n",
    "teams['Playoffs'].mask(teams['Playoffs'] != \"*\", \"Não Classificado\", inplace=True)\n",
    "teams['Playoffs'].mask(teams['Playoffs'] == \"*\",\"Classificado\", inplace=True)\n",
    "teams[\"Team\"]= teams[\"Team\"].str.replace(\"*\",\"\", regex=True)"
   ]
  },
  {
   "cell_type": "code",
   "execution_count": null,
   "id": "32e9e555",
   "metadata": {
    "scrolled": true
   },
   "outputs": [],
   "source": [
    "# Dicionário com abreviações e nomes de time\n",
    "teamname = {}\n",
    "with open (\"teamnames.csv\") as f:\n",
    "    lines = f.readlines()\n",
    "    for line in lines[1:]:\n",
    "        line = line.replace(\"\\n\",\"\")\n",
    "        line = line.split(\";\")\n",
    "        teamname[line[1]]=line[0]"
   ]
  },
  {
   "cell_type": "code",
   "execution_count": null,
   "id": "d4d710ea",
   "metadata": {
    "scrolled": true
   },
   "outputs": [],
   "source": [
    "#Aplicando dicionário para cruzar tabela de times com as demais\n",
    "teams[\"Tm\"] = teams[\"Team\"].map(teamname)\n",
    "teams"
   ]
  },
  {
   "cell_type": "markdown",
   "id": "1272e8d7",
   "metadata": {},
   "source": [
    "## Consolidação dos Dados Coletados"
   ]
  },
  {
   "cell_type": "code",
   "execution_count": null,
   "id": "46f92ae1",
   "metadata": {
    "scrolled": true
   },
   "outputs": [],
   "source": [
    "#Players Table + MVP Table\n",
    "players_tb = players.merge(mvps, how=\"outer\", on = ['Player','Season'])"
   ]
  },
  {
   "cell_type": "code",
   "execution_count": null,
   "id": "c3ce9754",
   "metadata": {
    "scrolled": true
   },
   "outputs": [],
   "source": [
    "#Players + MVP + Teams Table\n",
    "nba_stats = players_tb.merge(teams, how = 'outer', on = [\"Tm\",\"Season\"])"
   ]
  },
  {
   "cell_type": "code",
   "execution_count": null,
   "id": "b8a1e722",
   "metadata": {
    "scrolled": true
   },
   "outputs": [],
   "source": [
    "# Nem todos os jogadores foram votados para MVP, portanto, é necessário preencher os registros nulos a fim de evitar erros de cálculo\n",
    "nba_stats[[\"Pts Won\",\"Share\",\"MVP\"]] = nba_stats[[\"Pts Won\",\"Share\",\"MVP\"]].fillna(0)"
   ]
  },
  {
   "cell_type": "code",
   "execution_count": null,
   "id": "043ee1c1",
   "metadata": {
    "scrolled": true
   },
   "outputs": [],
   "source": [
    "#Transformar os dados em formato numérico\n",
    "nba_stats = nba_stats.apply(pd.to_numeric, errors=\"ignore\")"
   ]
  },
  {
   "cell_type": "code",
   "execution_count": null,
   "id": "67bb066e",
   "metadata": {
    "scrolled": true
   },
   "outputs": [],
   "source": [
    "del nba_stats[\"Unnamed: 0\"]\n",
    "del nba_stats[\"Conference\"]\n",
    "nba_stats.to_csv(\"NBA_Stats.csv\")"
   ]
  },
  {
   "cell_type": "markdown",
   "id": "7a1ab981",
   "metadata": {},
   "source": [
    "## Dados Consolidados"
   ]
  },
  {
   "cell_type": "code",
   "execution_count": null,
   "id": "b8f48b2d",
   "metadata": {},
   "outputs": [],
   "source": [
    "nba_stats = pd.read_csv(\"NBA_Stats.csv\")\n",
    "del nba_stats[\"Unnamed: 0\"]\n",
    "nba_stats"
   ]
  },
  {
   "cell_type": "code",
   "execution_count": null,
   "id": "9a55d3d7",
   "metadata": {
    "scrolled": false
   },
   "outputs": [],
   "source": [
    "## Filtrando jogadores que jogaram mais de 10 jogos na temporada\n",
    "nba_stats = nba_stats[nba_stats[\"G\"]>10]\n",
    "nba_stats"
   ]
  },
  {
   "cell_type": "code",
   "execution_count": null,
   "id": "0b62f0a5",
   "metadata": {
    "scrolled": true
   },
   "outputs": [],
   "source": [
    "##Preencher campos em branco com zero\n",
    "nba_stats = nba_stats.fillna(0)"
   ]
  },
  {
   "cell_type": "code",
   "execution_count": null,
   "id": "87985144",
   "metadata": {
    "scrolled": false
   },
   "outputs": [],
   "source": [
    "## Acrescentando Média de desempenho por idade agrupado\n",
    "avg_age = nba_stats.groupby(['Age']).mean()\n",
    "nba_stats = nba_stats.merge(avg_age['MP'], how=\"outer\", on = ['Age'])\n",
    "nba_stats = nba_stats.merge(avg_age['PTS'], how=\"outer\", on = ['Age'])\n",
    "nba_stats.rename(columns={'MP_y':'MP_Avg'}, inplace = True)\n",
    "nba_stats.rename(columns={'MP_x':'MP'}, inplace = True)\n",
    "nba_stats.rename(columns={'PTS_x':'PTS'}, inplace = True)\n",
    "nba_stats.rename(columns={'PTS_y':'PTS_Avg'}, inplace = True)\n",
    "nba_stats[[\"MP_Avg\"]]=nba_stats[[\"MP_Avg\"]].fillna(0)\n",
    "nba_stats[[\"PTS_Avg\"]]=nba_stats[[\"PTS_Avg\"]].fillna(0)\n",
    "nba_stats"
   ]
  },
  {
   "cell_type": "code",
   "execution_count": null,
   "id": "dd504d6c",
   "metadata": {},
   "outputs": [],
   "source": [
    "nba_stats.describe().transpose()"
   ]
  },
  {
   "cell_type": "markdown",
   "id": "011bd008",
   "metadata": {},
   "source": [
    "## Visualização dos dados "
   ]
  },
  {
   "cell_type": "code",
   "execution_count": null,
   "id": "14d1c05a",
   "metadata": {
    "scrolled": true
   },
   "outputs": [],
   "source": [
    "# Barras com a idade dos jogadores ao longo das temporadas\n",
    "sns.barplot(data=nba_stats,x=\"Season\",y=\"Age\",hue=\"Age\")\n",
    "plt.legend().remove()\n",
    "plt.show()"
   ]
  },
  {
   "cell_type": "code",
   "execution_count": null,
   "id": "c9e29d07",
   "metadata": {
    "scrolled": true
   },
   "outputs": [],
   "source": [
    "# Boxplot com a idade dos jogadores ao longo das temporadas\n",
    "sns.boxplot(data=nba_stats, y = 'Age',  x = \"Season\")"
   ]
  },
  {
   "cell_type": "code",
   "execution_count": null,
   "id": "9b534734",
   "metadata": {
    "scrolled": true
   },
   "outputs": [],
   "source": [
    "## Análise descritiva da variável idade em 2016\n",
    "nba_idade = nba_stats[nba_stats['Season']==2016]['Age'].describe()\n",
    "del nba_idade['count']\n",
    "nba_idade"
   ]
  },
  {
   "cell_type": "code",
   "execution_count": null,
   "id": "c8d8050b",
   "metadata": {
    "scrolled": true
   },
   "outputs": [],
   "source": [
    "# Boxplot com a idade e pontos\n",
    "plt.figure(figsize=(20,5))\n",
    "sns.boxplot(data=nba_stats, x='Age', y='PTS')"
   ]
  },
  {
   "cell_type": "code",
   "execution_count": null,
   "id": "9a9fa2cd",
   "metadata": {
    "scrolled": true
   },
   "outputs": [],
   "source": [
    "# Dispersão com a disposição da média de minutos jogados em função da idade\n",
    "fig = px.scatter(nba_stats, y=\"MP_Avg\", x =\"Age\", \n",
    "width=800, height=600)\n",
    "fig.for_each_annotation(lambda a: a.update(text=a.text.split(\"=\")[-1]))\n",
    "fig.show()"
   ]
  },
  {
   "cell_type": "code",
   "execution_count": null,
   "id": "4927dc41",
   "metadata": {},
   "outputs": [],
   "source": [
    "# Histograma com principais estatístivas de jogo em função da idade\n",
    "fig, ax =plt.subplots(3,3,constrained_layout = True)\n",
    "sns.histplot(data=nba_stats, x = nba_stats['Age'],y=nba_stats['FG'], ax=ax[0,0])\n",
    "sns.histplot(data=nba_stats, x = nba_stats['Age'],y=nba_stats['2P'], ax=ax[0,1])\n",
    "sns.histplot(data=nba_stats, x = nba_stats['Age'],y=nba_stats['3P'], ax=ax[0,2])\n",
    "sns.histplot(data=nba_stats, x = nba_stats['Age'],y=nba_stats['FT'], ax=ax[1,0])\n",
    "sns.histplot(data=nba_stats, x = nba_stats['Age'],y=nba_stats['TRB'], ax=ax[1,1])\n",
    "sns.histplot(data=nba_stats, x = nba_stats['Age'],y=nba_stats['AST'], ax=ax[1,2])\n",
    "sns.histplot(data=nba_stats, x = nba_stats['Age'],y=nba_stats['STL'], ax=ax[2,0])\n",
    "sns.histplot(data=nba_stats, x = nba_stats['Age'],y=nba_stats['BLK'], ax=ax[2,1])\n",
    "sns.histplot(data=nba_stats, x = nba_stats['Age'],y=nba_stats['TOV'], ax=ax[2,2])\n",
    "plt.figure(figsize=(12, 12))\n",
    "plt.show()"
   ]
  },
  {
   "cell_type": "code",
   "execution_count": null,
   "id": "c3568256",
   "metadata": {
    "scrolled": true
   },
   "outputs": [],
   "source": [
    "# Heatmap com correlação\n",
    "plt.figure(figsize=(8, 12))\n",
    "heatmap = sns.heatmap(nba_stats.corr()[['Age']].sort_values(by='Age', ascending=False), vmin=-1, vmax=1, annot=True, cmap='RdBu')"
   ]
  },
  {
   "cell_type": "code",
   "execution_count": null,
   "id": "441b1b4b",
   "metadata": {
    "scrolled": true
   },
   "outputs": [],
   "source": [
    "#Correlação de jogadores mais novos\n",
    "plt.figure(figsize=(5, 8))\n",
    "plt.title(\"Jogadores com 26 anos ou menos\", fontsize =11)\n",
    "heatmap = sns.heatmap(nba_stats[nba_stats['Age']<27].corr()[['Age']].sort_values(by='Age', ascending=False), vmin=-1, vmax=1, annot=True, cmap='PiYG')"
   ]
  },
  {
   "cell_type": "code",
   "execution_count": null,
   "id": "d053bad8",
   "metadata": {},
   "outputs": [],
   "source": [
    "#Correlação de jogadores mais velhos\n",
    "plt.figure(figsize=(5, 8))\n",
    "plt.title(\"Jogadores com mais de 26 anos\", fontsize =11)\n",
    "heatmap = sns.heatmap(nba_stats[nba_stats['Age']>26].corr()[['Age']].sort_values(by='Age', ascending=False), vmin=-1, vmax=1, annot=True, cmap='RdGy')"
   ]
  }
 ],
 "metadata": {
  "celltoolbar": "Attachments",
  "kernelspec": {
   "display_name": "Python 3",
   "language": "python",
   "name": "python3"
  },
  "language_info": {
   "codemirror_mode": {
    "name": "ipython",
    "version": 3
   },
   "file_extension": ".py",
   "mimetype": "text/x-python",
   "name": "python",
   "nbconvert_exporter": "python",
   "pygments_lexer": "ipython3",
   "version": "3.8.8"
  }
 },
 "nbformat": 4,
 "nbformat_minor": 5
}
